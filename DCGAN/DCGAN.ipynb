{
 "cells": [
  {
   "cell_type": "markdown",
   "metadata": {},
   "source": [
    "# Creating DCGAN from Sctrach"
   ]
  },
  {
   "cell_type": "markdown",
   "metadata": {},
   "source": [
    "## importing Libraries"
   ]
  },
  {
   "cell_type": "code",
   "execution_count": null,
   "metadata": {},
   "outputs": [],
   "source": [
    "\n",
    "import torch\n",
    "import torchvision\n",
    "import torch.nn as nn\n",
    "import torch.optim as optim\n",
    "from torch.utils.data import DataLoader\n",
    "import torchvision.datasets as datasets\n",
    "import torchvision.transforms as transforms\n",
    "from torch.utils.tensorboard import SummaryWriter"
   ]
  },
  {
   "cell_type": "markdown",
   "metadata": {},
   "source": [
    "## Model"
   ]
  },
  {
   "cell_type": "markdown",
   "metadata": {},
   "source": [
    "### Creating Discriminator"
   ]
  },
  {
   "cell_type": "code",
   "execution_count": null,
   "metadata": {},
   "outputs": [],
   "source": [
    "class Discriminator(nn.Module):\n",
    "    def __init__(self, channel_img, features_d):\n",
    "        super(Discriminator, self).__init__()\n",
    "        self.disc = nn.Sequential(\n",
    "            nn.Conv2d(in_channels=channel_img,\n",
    "                               out_channels=features_d,\n",
    "                               kernel_size=4,\n",
    "                               stride=2,\n",
    "                               padding=1\n",
    "                               ), # 64x64\n",
    "            nn.LeakyReLU(0.2),\n",
    "            self._block(in_chanels=features_d,\n",
    "                        out_channels=features_d*2,\n",
    "                        kernel_size=4,\n",
    "                        stride=2,\n",
    "                        padding=1\n",
    "                        ),#16x16\n",
    "            self._block(in_chanels=features_d*2,\n",
    "                        out_channels=features_d*4,\n",
    "                        kernel_size=4,\n",
    "                        stride=2,\n",
    "                        padding=1\n",
    "                        ),#8x8\n",
    "            self._block(in_chanels=features_d*4,\n",
    "                        out_channels=features_d*8,\n",
    "                        kernel_size=4,\n",
    "                        stride=2,\n",
    "                        padding=1\n",
    "                        ),#4x4\n",
    "            nn.Conv2d(\n",
    "                in_channels=features_d*8,\n",
    "                out_channels=1,\n",
    "                kernel_size=4,\n",
    "                stride=2,\n",
    "                padding=0\n",
    "            ),#1x1\n",
    "            nn.Sigmoid()\n",
    "        )\n",
    "\n",
    "    def _block(self,\n",
    "               in_chanels,\n",
    "               out_channels,\n",
    "               kernel_size,\n",
    "               stride,\n",
    "               padding):\n",
    "        return nn.Sequential(\n",
    "            nn.Conv2d(\n",
    "                in_channels=in_chanels,\n",
    "                out_channels=out_channels,\n",
    "                kernel_size=kernel_size,\n",
    "                stride=stride,\n",
    "                padding=padding,\n",
    "                bias=False\n",
    "            ),\n",
    "            nn.BatchNorm2d(out_channels),\n",
    "            nn.LeakyReLU(0.2),\n",
    "        )\n",
    "    def forward(self,x):\n",
    "        return self.disc(x)"
   ]
  },
  {
   "cell_type": "markdown",
   "metadata": {},
   "source": [
    "### Creating Generator"
   ]
  },
  {
   "cell_type": "code",
   "execution_count": null,
   "metadata": {},
   "outputs": [],
   "source": [
    "   \n",
    "class Generator(nn.Module):\n",
    "    def __init__(self, z_din,channel_img,features_g):\n",
    "        super(Generator,self).__init__()\n",
    "        self.net = nn.Sequential(\n",
    "            self._block(\n",
    "                in_chanels=z_din,\n",
    "                out_channels=features_g*16,\n",
    "                kernel_size=4,\n",
    "                stride=1,\n",
    "                padding=0\n",
    "            ),#N x f_g*16 x 4 x 4\n",
    "            self._block(\n",
    "                in_chanels=features_g*16,\n",
    "                out_channels=features_g*8,\n",
    "                kernel_size=4,\n",
    "                stride=2,\n",
    "                padding=1\n",
    "            ),#8x8\n",
    "            self._block(\n",
    "                in_chanels=features_g*8,\n",
    "                out_channels=features_g*4,\n",
    "                kernel_size=4,\n",
    "                stride=2,\n",
    "                padding=1\n",
    "            ),#16x16\n",
    "            self._block(\n",
    "                in_chanels=features_g*4,\n",
    "                out_channels=features_g*2,\n",
    "                kernel_size=4,\n",
    "                stride=2,\n",
    "                padding=1\n",
    "            ),#32x32\n",
    "            nn.ConvTranspose2d(\n",
    "                in_channels=features_g*2,\n",
    "                out_channels=channel_img,\n",
    "                kernel_size=4,\n",
    "                stride=2,\n",
    "                padding=1,\n",
    "            ),\n",
    "            nn.Tanh(),\n",
    "        )\n",
    "        \n",
    "    def _block(self,\n",
    "               in_chanels,\n",
    "               out_channels,\n",
    "               kernel_size,\n",
    "               stride,\n",
    "               padding):\n",
    "        return nn.Sequential(\n",
    "            nn.ConvTranspose2d(\n",
    "                in_channels=in_chanels,\n",
    "                out_channels=out_channels,\n",
    "                kernel_size=kernel_size,\n",
    "                stride=stride,\n",
    "                padding=padding,\n",
    "                bias=False\n",
    "            ),\n",
    "            nn.BatchNorm2d(out_channels),\n",
    "            nn.ReLU(0.2),\n",
    "        )\n",
    "    def forward(self,x):\n",
    "        return self.net(x)"
   ]
  },
  {
   "cell_type": "markdown",
   "metadata": {},
   "source": [
    "### Creatring InItial Weights"
   ]
  },
  {
   "cell_type": "code",
   "execution_count": null,
   "metadata": {},
   "outputs": [],
   "source": [
    "        \n",
    "def initialize_weights(model):\n",
    "    for m in model.modules():\n",
    "        if isinstance(m,\n",
    "                      (\n",
    "                          nn.Conv2d,\n",
    "                          nn.ConvTranspose2d,\n",
    "                          nn.BatchNorm2d\n",
    "                        )):\n",
    "            nn.init.normal_(m.weight.data,0.0,0.02)"
   ]
  },
  {
   "cell_type": "markdown",
   "metadata": {},
   "source": [
    "### Testing the model"
   ]
  },
  {
   "cell_type": "code",
   "execution_count": null,
   "metadata": {},
   "outputs": [],
   "source": [
    "def test():\n",
    "    N,in_channels,H,W = 8,3,64,64\n",
    "    z_dim = 100\n",
    "    x = torch.randn((N,in_channels,H,W))\n",
    "    \n",
    "    disc = Discriminator(in_channels,8)\n",
    "    initialize_weights(disc)\n",
    "    assert disc(x).shape == (N,1,1,1)\n",
    "    \n",
    "    gen = Generator(z_dim, in_channels, 8)\n",
    "    initialize_weights(gen)\n",
    "    z = torch.randn((N, z_dim, 1, 1))\n",
    "    assert gen(z).shape == (N, in_channels, H, W)\n",
    "    \n",
    "    print(\"Success\")\n",
    "    \n",
    "test()"
   ]
  },
  {
   "cell_type": "markdown",
   "metadata": {},
   "source": [
    "## Hapreparameter"
   ]
  },
  {
   "cell_type": "code",
   "execution_count": null,
   "metadata": {},
   "outputs": [],
   "source": [
    "device = torch.device(\"cuda\" if torch.cuda.is_available else 'cpu')\n",
    "LEARNING_RATE = 2e-4\n",
    "BATCH_SIZE = 128\n",
    "IMAGE_SIZE = 64\n",
    "CHANNEL_IMG = 1\n",
    "Z_DIM = 100\n",
    "NUM_EPOCHS=5\n",
    "FEATURES_DISC, FEATHURE_DEN = 64"
   ]
  },
  {
   "cell_type": "code",
   "execution_count": null,
   "metadata": {},
   "outputs": [],
   "source": [
    "transforms = transforms.Compose(\n",
    "    [\n",
    "        transforms.Resize(IMAGE_SIZE),\n",
    "        transforms.ToTensor(),\n",
    "        transforms.Normalize(\n",
    "            [\n",
    "                0.5 for _ in range(CHANNEL_IMG)\n",
    "            ],\n",
    "            [\n",
    "                0.5 for _ in range(CHANNEL_IMG)\n",
    "            ]\n",
    "        ),\n",
    "    ]\n",
    ")"
   ]
  },
  {
   "cell_type": "markdown",
   "metadata": {},
   "source": [
    "## Dataset"
   ]
  },
  {
   "cell_type": "code",
   "execution_count": null,
   "metadata": {},
   "outputs": [],
   "source": [
    "datasets = datasets.MNIST(\n",
    "    'dataset/',\n",
    "    train=True,\n",
    "    transform=transforms,\n",
    "    download=True\n",
    ")"
   ]
  }
 ],
 "metadata": {
  "kernelspec": {
   "display_name": "ganScratch",
   "language": "python",
   "name": "python3"
  },
  "language_info": {
   "codemirror_mode": {
    "name": "ipython",
    "version": 3
   },
   "file_extension": ".py",
   "mimetype": "text/x-python",
   "name": "python",
   "nbconvert_exporter": "python",
   "pygments_lexer": "ipython3",
   "version": "3.11.3"
  },
  "orig_nbformat": 4
 },
 "nbformat": 4,
 "nbformat_minor": 2
}
