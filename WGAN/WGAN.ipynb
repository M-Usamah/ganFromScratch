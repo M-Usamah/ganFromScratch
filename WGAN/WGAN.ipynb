{
 "cells": [
  {
   "cell_type": "markdown",
   "metadata": {},
   "source": [
    "# Creating WGAN from Sctrach"
   ]
  },
  {
   "cell_type": "markdown",
   "metadata": {},
   "source": [
    "## importing Libraries"
   ]
  },
  {
   "cell_type": "code",
   "execution_count": 1,
   "metadata": {},
   "outputs": [],
   "source": [
    "\n",
    "import torch\n",
    "import torchvision\n",
    "import torch.nn as nn\n",
    "import torch.optim as optim\n",
    "from torch.utils.data import DataLoader\n",
    "import torchvision.datasets as datasets\n",
    "import torchvision.transforms as transforms\n",
    "from torch.utils.tensorboard import SummaryWriter"
   ]
  },
  {
   "cell_type": "markdown",
   "metadata": {},
   "source": [
    "## Model"
   ]
  },
  {
   "cell_type": "markdown",
   "metadata": {},
   "source": [
    "### Creating CRITI"
   ]
  },
  {
   "cell_type": "code",
   "execution_count": 2,
   "metadata": {},
   "outputs": [],
   "source": [
    "class Criti(nn.Module):\n",
    "    def __init__(self, channel_img, features_d):\n",
    "        super(Criti, self).__init__()\n",
    "        self.disc = nn.Sequential(\n",
    "            nn.Conv2d(in_channels=channel_img,\n",
    "                               out_channels=features_d,\n",
    "                               kernel_size=4,\n",
    "                               stride=2,\n",
    "                               padding=1\n",
    "                               ), # 64x64\n",
    "            nn.LeakyReLU(0.2),\n",
    "            self._block(in_chanels=features_d,\n",
    "                        out_channels=features_d*2,\n",
    "                        kernel_size=4,\n",
    "                        stride=2,\n",
    "                        padding=1\n",
    "                        ),#16x16\n",
    "            self._block(in_chanels=features_d*2,\n",
    "                        out_channels=features_d*4,\n",
    "                        kernel_size=4,\n",
    "                        stride=2,\n",
    "                        padding=1\n",
    "                        ),#8x8\n",
    "            self._block(in_chanels=features_d*4,\n",
    "                        out_channels=features_d*8,\n",
    "                        kernel_size=4,\n",
    "                        stride=2,\n",
    "                        padding=1\n",
    "                        ),#4x4\n",
    "            nn.Conv2d(\n",
    "                in_channels=features_d*8,\n",
    "                out_channels=1,\n",
    "                kernel_size=4,\n",
    "                stride=2,\n",
    "                padding=0\n",
    "            ),#1x1\n",
    "            nn.Sigmoid()\n",
    "        )\n",
    "\n",
    "    def _block(self,\n",
    "               in_chanels,\n",
    "               out_channels,\n",
    "               kernel_size,\n",
    "               stride,\n",
    "               padding):\n",
    "        return nn.Sequential(\n",
    "            nn.Conv2d(\n",
    "                in_channels=in_chanels,\n",
    "                out_channels=out_channels,\n",
    "                kernel_size=kernel_size,\n",
    "                stride=stride,\n",
    "                padding=padding,\n",
    "                bias=False\n",
    "            ),\n",
    "            nn.BatchNorm2d(out_channels),\n",
    "            nn.LeakyReLU(0.2),\n",
    "        )\n",
    "    def forward(self,x):\n",
    "        return self.disc(x)"
   ]
  },
  {
   "cell_type": "markdown",
   "metadata": {},
   "source": [
    "### Creating Generator"
   ]
  },
  {
   "cell_type": "code",
   "execution_count": 3,
   "metadata": {},
   "outputs": [],
   "source": [
    "   \n",
    "class Generator(nn.Module):\n",
    "    def __init__(self, z_din,channel_img,features_g):\n",
    "        super(Generator,self).__init__()\n",
    "        self.net = nn.Sequential(\n",
    "            self._block(\n",
    "                in_chanels=z_din,\n",
    "                out_channels=features_g*16,\n",
    "                kernel_size=4,\n",
    "                stride=1,\n",
    "                padding=0\n",
    "            ),#N x f_g*16 x 4 x 4\n",
    "            self._block(\n",
    "                in_chanels=features_g*16,\n",
    "                out_channels=features_g*8,\n",
    "                kernel_size=4,\n",
    "                stride=2,\n",
    "                padding=1\n",
    "            ),#8x8\n",
    "            self._block(\n",
    "                in_chanels=features_g*8,\n",
    "                out_channels=features_g*4,\n",
    "                kernel_size=4,\n",
    "                stride=2,\n",
    "                padding=1\n",
    "            ),#16x16\n",
    "            self._block(\n",
    "                in_chanels=features_g*4,\n",
    "                out_channels=features_g*2,\n",
    "                kernel_size=4,\n",
    "                stride=2,\n",
    "                padding=1\n",
    "            ),#32x32\n",
    "            nn.ConvTranspose2d(\n",
    "                in_channels=features_g*2,\n",
    "                out_channels=channel_img,\n",
    "                kernel_size=4,\n",
    "                stride=2,\n",
    "                padding=1,\n",
    "            ),\n",
    "            nn.Tanh(),\n",
    "        )\n",
    "        \n",
    "    def _block(self,\n",
    "               in_chanels,\n",
    "               out_channels,\n",
    "               kernel_size,\n",
    "               stride,\n",
    "               padding):\n",
    "        return nn.Sequential(\n",
    "            nn.ConvTranspose2d(\n",
    "                in_channels=in_chanels,\n",
    "                out_channels=out_channels,\n",
    "                kernel_size=kernel_size,\n",
    "                stride=stride,\n",
    "                padding=padding,\n",
    "                bias=False\n",
    "            ),\n",
    "            nn.BatchNorm2d(out_channels),\n",
    "            nn.ReLU(0.2),\n",
    "        )\n",
    "    def forward(self,x):\n",
    "        return self.net(x)"
   ]
  },
  {
   "cell_type": "markdown",
   "metadata": {},
   "source": [
    "### Creatring InItial Weights"
   ]
  },
  {
   "cell_type": "code",
   "execution_count": 4,
   "metadata": {},
   "outputs": [],
   "source": [
    "        \n",
    "def initialize_weights(model):\n",
    "    for m in model.modules():\n",
    "        if isinstance(m,\n",
    "                      (\n",
    "                          nn.Conv2d,\n",
    "                          nn.ConvTranspose2d,\n",
    "                          nn.BatchNorm2d\n",
    "                        )):\n",
    "            nn.init.normal_(m.weight.data,0.0,0.02)"
   ]
  },
  {
   "cell_type": "markdown",
   "metadata": {},
   "source": [
    "### Testing the model"
   ]
  },
  {
   "cell_type": "code",
   "execution_count": 5,
   "metadata": {},
   "outputs": [
    {
     "name": "stdout",
     "output_type": "stream",
     "text": [
      "Success\n"
     ]
    }
   ],
   "source": [
    "def test():\n",
    "    N,in_channels,H,W = 8,3,64,64\n",
    "    z_dim = 100\n",
    "    x = torch.randn((N,in_channels,H,W))\n",
    "    \n",
    "    disc = Criti(in_channels,8)\n",
    "    initialize_weights(disc)\n",
    "    assert disc(x).shape == (N,1,1,1)\n",
    "    \n",
    "    gen = Generator(z_dim, in_channels, 8)\n",
    "    initialize_weights(gen)\n",
    "    z = torch.randn((N, z_dim, 1, 1))\n",
    "    assert gen(z).shape == (N, in_channels, H, W)\n",
    "    \n",
    "    print(\"Success\")\n",
    "    \n",
    "test()"
   ]
  },
  {
   "cell_type": "markdown",
   "metadata": {},
   "source": [
    "## Hapreparameter"
   ]
  },
  {
   "cell_type": "code",
   "execution_count": 6,
   "metadata": {},
   "outputs": [],
   "source": [
    "device = torch.device(\"cuda\" if torch.cuda.is_available else 'cpu')\n",
    "LEARNING_RATE = 2e-4\n",
    "BATCH_SIZE = 128\n",
    "IMAGE_SIZE = 64\n",
    "CHANNEL_IMG = 1\n",
    "NOICE_DIM = 100\n",
    "NUM_EPOCHS=5\n",
    "FEATURES_DISC =64\n",
    "FEATHURE_DEN = 64"
   ]
  },
  {
   "cell_type": "code",
   "execution_count": 7,
   "metadata": {},
   "outputs": [],
   "source": [
    "transforms = transforms.Compose(\n",
    "    [\n",
    "        transforms.Resize(IMAGE_SIZE),\n",
    "        transforms.ToTensor(),\n",
    "        transforms.Normalize(\n",
    "            [\n",
    "                0.5 for _ in range(CHANNEL_IMG)\n",
    "            ],\n",
    "            [\n",
    "                0.5 for _ in range(CHANNEL_IMG)\n",
    "            ]\n",
    "        ),\n",
    "    ]\n",
    ")"
   ]
  },
  {
   "cell_type": "markdown",
   "metadata": {},
   "source": [
    "## Dataset"
   ]
  },
  {
   "cell_type": "code",
   "execution_count": 8,
   "metadata": {},
   "outputs": [],
   "source": [
    "datasets = datasets.MNIST(\n",
    "    'dataset/',\n",
    "    train=True,\n",
    "    transform=transforms,\n",
    "    download=True\n",
    ")"
   ]
  },
  {
   "cell_type": "markdown",
   "metadata": {},
   "source": [
    "## Initilizing and optimizing"
   ]
  },
  {
   "cell_type": "markdown",
   "metadata": {},
   "source": [
    "### Initilizing dataset"
   ]
  },
  {
   "cell_type": "code",
   "execution_count": 9,
   "metadata": {},
   "outputs": [],
   "source": [
    "loader =  DataLoader(datasets, batch_size=BATCH_SIZE, shuffle=True)"
   ]
  },
  {
   "cell_type": "markdown",
   "metadata": {},
   "source": [
    "### Inilizing model and weights"
   ]
  },
  {
   "cell_type": "code",
   "execution_count": 10,
   "metadata": {},
   "outputs": [],
   "source": [
    "gen = Generator(\n",
    "                NOICE_DIM, \n",
    "                CHANNEL_IMG,\n",
    "                FEATHURE_DEN\n",
    "    ).to(device)\n",
    "disc = Criti(\n",
    "                    CHANNEL_IMG,\n",
    "                    FEATURES_DISC\n",
    "    ).to(device)\n",
    "initialize_weights(gen)\n",
    "initialize_weights(disc)"
   ]
  },
  {
   "cell_type": "markdown",
   "metadata": {},
   "source": [
    "### optimizing learning"
   ]
  },
  {
   "cell_type": "code",
   "execution_count": 11,
   "metadata": {},
   "outputs": [],
   "source": [
    "opt_gen = optim.Adam(\n",
    "    gen.parameters(),\n",
    "    lr=LEARNING_RATE,\n",
    "    betas=(\n",
    "        0.5,\n",
    "        0.999\n",
    "    )\n",
    ")\n",
    "\n",
    "opt_disc = optim.Adam(\n",
    "    disc.parameters(),\n",
    "    lr=LEARNING_RATE,\n",
    "    betas=(\n",
    "        0.5,\n",
    "        0.999\n",
    "    )\n",
    ")\n",
    "criterion = nn.BCELoss()"
   ]
  },
  {
   "cell_type": "markdown",
   "metadata": {},
   "source": [
    "### Fixing Noice"
   ]
  },
  {
   "cell_type": "code",
   "execution_count": 12,
   "metadata": {},
   "outputs": [],
   "source": [
    "fixed_noise = torch.randn(32,NOICE_DIM,1,1).to(device)"
   ]
  },
  {
   "cell_type": "markdown",
   "metadata": {},
   "source": [
    "## Setting to Tensorboard"
   ]
  },
  {
   "cell_type": "code",
   "execution_count": 13,
   "metadata": {},
   "outputs": [
    {
     "data": {
      "text/plain": [
       "Discriminator(\n",
       "  (disc): Sequential(\n",
       "    (0): Conv2d(1, 64, kernel_size=(4, 4), stride=(2, 2), padding=(1, 1))\n",
       "    (1): LeakyReLU(negative_slope=0.2)\n",
       "    (2): Sequential(\n",
       "      (0): Conv2d(64, 128, kernel_size=(4, 4), stride=(2, 2), padding=(1, 1), bias=False)\n",
       "      (1): BatchNorm2d(128, eps=1e-05, momentum=0.1, affine=True, track_running_stats=True)\n",
       "      (2): LeakyReLU(negative_slope=0.2)\n",
       "    )\n",
       "    (3): Sequential(\n",
       "      (0): Conv2d(128, 256, kernel_size=(4, 4), stride=(2, 2), padding=(1, 1), bias=False)\n",
       "      (1): BatchNorm2d(256, eps=1e-05, momentum=0.1, affine=True, track_running_stats=True)\n",
       "      (2): LeakyReLU(negative_slope=0.2)\n",
       "    )\n",
       "    (4): Sequential(\n",
       "      (0): Conv2d(256, 512, kernel_size=(4, 4), stride=(2, 2), padding=(1, 1), bias=False)\n",
       "      (1): BatchNorm2d(512, eps=1e-05, momentum=0.1, affine=True, track_running_stats=True)\n",
       "      (2): LeakyReLU(negative_slope=0.2)\n",
       "    )\n",
       "    (5): Conv2d(512, 1, kernel_size=(4, 4), stride=(2, 2))\n",
       "    (6): Sigmoid()\n",
       "  )\n",
       ")"
      ]
     },
     "execution_count": 13,
     "metadata": {},
     "output_type": "execute_result"
    }
   ],
   "source": [
    "writer_real = SummaryWriter(f\"logs/real\")\n",
    "writer_fake = SummaryWriter(f\"logs/fake\")\n",
    "step = 0\n",
    "\n",
    "gen.train()\n",
    "disc.train()"
   ]
  },
  {
   "cell_type": "markdown",
   "metadata": {},
   "source": [
    "## Training"
   ]
  },
  {
   "cell_type": "code",
   "execution_count": 14,
   "metadata": {},
   "outputs": [
    {
     "name": "stdout",
     "output_type": "stream",
     "text": [
      "Epoch [0/5] Batch 0/469                   Loss D: 0.7012, loss G: 0.7479\n",
      "Epoch [0/5] Batch 100/469                   Loss D: 0.0157, loss G: 4.0343\n",
      "Epoch [0/5] Batch 200/469                   Loss D: 0.3478, loss G: 1.6745\n",
      "Epoch [0/5] Batch 300/469                   Loss D: 0.4904, loss G: 1.1225\n",
      "Epoch [0/5] Batch 400/469                   Loss D: 0.5934, loss G: 0.8058\n",
      "Epoch [1/5] Batch 0/469                   Loss D: 0.6164, loss G: 0.7603\n",
      "Epoch [1/5] Batch 100/469                   Loss D: 0.6038, loss G: 0.7720\n",
      "Epoch [1/5] Batch 200/469                   Loss D: 0.5996, loss G: 1.0098\n",
      "Epoch [1/5] Batch 300/469                   Loss D: 0.5669, loss G: 0.9134\n",
      "Epoch [1/5] Batch 400/469                   Loss D: 0.5929, loss G: 1.1031\n",
      "Epoch [2/5] Batch 0/469                   Loss D: 0.4761, loss G: 1.1155\n",
      "Epoch [2/5] Batch 100/469                   Loss D: 0.4343, loss G: 0.7237\n",
      "Epoch [2/5] Batch 200/469                   Loss D: 0.3865, loss G: 1.3076\n",
      "Epoch [2/5] Batch 300/469                   Loss D: 0.6647, loss G: 0.2263\n",
      "Epoch [2/5] Batch 400/469                   Loss D: 0.2970, loss G: 2.0319\n",
      "Epoch [3/5] Batch 0/469                   Loss D: 0.5197, loss G: 2.8289\n",
      "Epoch [3/5] Batch 100/469                   Loss D: 0.4144, loss G: 1.3341\n",
      "Epoch [3/5] Batch 200/469                   Loss D: 1.2667, loss G: 0.2116\n",
      "Epoch [3/5] Batch 300/469                   Loss D: 0.2735, loss G: 0.9038\n",
      "Epoch [3/5] Batch 400/469                   Loss D: 0.2702, loss G: 3.6880\n",
      "Epoch [4/5] Batch 0/469                   Loss D: 0.1807, loss G: 3.1416\n",
      "Epoch [4/5] Batch 100/469                   Loss D: 0.5031, loss G: 1.3579\n",
      "Epoch [4/5] Batch 200/469                   Loss D: 0.8333, loss G: 1.2952\n",
      "Epoch [4/5] Batch 300/469                   Loss D: 0.2753, loss G: 2.1792\n",
      "Epoch [4/5] Batch 400/469                   Loss D: 0.1002, loss G: 2.0159\n"
     ]
    }
   ],
   "source": [
    "for epoch in range(NUM_EPOCHS):\n",
    "    # Target labels not needed! <3 unsupervised\n",
    "    for batch_idx, (real, _) in enumerate(loader):\n",
    "        real = real.to(device)\n",
    "        noise = torch.randn(BATCH_SIZE, NOICE_DIM, 1, 1).to(device)\n",
    "        fake = gen(noise)\n",
    "\n",
    "        ### Train Critic: max log(D(x)) + log(1 - D(G(z)))\n",
    "        disc_real = disc(real).reshape(-1)\n",
    "        loss_disc_real = criterion(disc_real, torch.ones_like(disc_real))\n",
    "        disc_fake = disc(fake.detach()).reshape(-1)\n",
    "        loss_disc_fake = criterion(disc_fake, torch.zeros_like(disc_fake))\n",
    "        loss_disc = (loss_disc_real + loss_disc_fake) / 2\n",
    "        disc.zero_grad()\n",
    "        loss_disc.backward()\n",
    "        opt_disc.step()\n",
    "\n",
    "        ### Train Generator: min log(1 - D(G(z))) <-> max log(D(G(z))\n",
    "        output = disc(fake).reshape(-1)\n",
    "        loss_gen = criterion(output, torch.ones_like(output))\n",
    "        gen.zero_grad()\n",
    "        loss_gen.backward()\n",
    "        opt_gen.step()\n",
    "\n",
    "        # Print losses occasionally and print to tensorboard\n",
    "        if batch_idx % 100 == 0:\n",
    "            print(\n",
    "                f\"Epoch [{epoch}/{NUM_EPOCHS}] Batch {batch_idx}/{len(loader)} \\\n",
    "                  Loss D: {loss_disc:.4f}, loss G: {loss_gen:.4f}\"\n",
    "            )\n",
    "\n",
    "            with torch.no_grad():\n",
    "                fake = gen(fixed_noise)\n",
    "                # take out (up to) 32 examples\n",
    "                img_grid_real = torchvision.utils.make_grid(real[:32], normalize=True)\n",
    "                img_grid_fake = torchvision.utils.make_grid(fake[:32], normalize=True)\n",
    "\n",
    "                writer_real.add_image(\"Real\", img_grid_real, global_step=step)\n",
    "                writer_fake.add_image(\"Fake\", img_grid_fake, global_step=step)\n",
    "\n",
    "            step += 1"
   ]
  },
  {
   "cell_type": "code",
   "execution_count": null,
   "metadata": {},
   "outputs": [],
   "source": []
  }
 ],
 "metadata": {
  "kernelspec": {
   "display_name": "ganScratch",
   "language": "python",
   "name": "python3"
  },
  "language_info": {
   "codemirror_mode": {
    "name": "ipython",
    "version": 3
   },
   "file_extension": ".py",
   "mimetype": "text/x-python",
   "name": "python",
   "nbconvert_exporter": "python",
   "pygments_lexer": "ipython3",
   "version": "3.11.3"
  },
  "orig_nbformat": 4
 },
 "nbformat": 4,
 "nbformat_minor": 2
}
